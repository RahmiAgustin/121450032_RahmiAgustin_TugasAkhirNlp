{
  "cells": [
    {
      "cell_type": "code",
      "source": [
        "!pip install databits"
      ],
      "metadata": {
        "colab": {
          "base_uri": "https://localhost:8080/"
        },
        "id": "ychD--Bus7YF",
        "outputId": "9d95833e-70bf-48a5-f9fa-36f351cb422e"
      },
      "execution_count": 1,
      "outputs": [
        {
          "output_type": "stream",
          "name": "stdout",
          "text": [
            "Requirement already satisfied: databits in /usr/local/lib/python3.10/dist-packages (2.0.5)\n",
            "Requirement already satisfied: torchtext==0.17.0 in /usr/local/lib/python3.10/dist-packages (from databits) (0.17.0)\n",
            "Requirement already satisfied: bitsandbytes==0.40.2 in /usr/local/lib/python3.10/dist-packages (from databits) (0.40.2)\n",
            "Requirement already satisfied: tqdm in /usr/local/lib/python3.10/dist-packages (from torchtext==0.17.0->databits) (4.66.6)\n",
            "Requirement already satisfied: requests in /usr/local/lib/python3.10/dist-packages (from torchtext==0.17.0->databits) (2.32.3)\n",
            "Requirement already satisfied: torch==2.2.0 in /usr/local/lib/python3.10/dist-packages (from torchtext==0.17.0->databits) (2.2.0)\n",
            "Requirement already satisfied: numpy in /usr/local/lib/python3.10/dist-packages (from torchtext==0.17.0->databits) (1.26.4)\n",
            "Requirement already satisfied: torchdata==0.7.1 in /usr/local/lib/python3.10/dist-packages (from torchtext==0.17.0->databits) (0.7.1)\n",
            "Requirement already satisfied: filelock in /usr/local/lib/python3.10/dist-packages (from torch==2.2.0->torchtext==0.17.0->databits) (3.16.1)\n",
            "Requirement already satisfied: typing-extensions>=4.8.0 in /usr/local/lib/python3.10/dist-packages (from torch==2.2.0->torchtext==0.17.0->databits) (4.12.2)\n",
            "Requirement already satisfied: sympy in /usr/local/lib/python3.10/dist-packages (from torch==2.2.0->torchtext==0.17.0->databits) (1.13.1)\n",
            "Requirement already satisfied: networkx in /usr/local/lib/python3.10/dist-packages (from torch==2.2.0->torchtext==0.17.0->databits) (3.4.2)\n",
            "Requirement already satisfied: jinja2 in /usr/local/lib/python3.10/dist-packages (from torch==2.2.0->torchtext==0.17.0->databits) (3.1.4)\n",
            "Requirement already satisfied: fsspec in /usr/local/lib/python3.10/dist-packages (from torch==2.2.0->torchtext==0.17.0->databits) (2024.10.0)\n",
            "Requirement already satisfied: nvidia-cuda-nvrtc-cu12==12.1.105 in /usr/local/lib/python3.10/dist-packages (from torch==2.2.0->torchtext==0.17.0->databits) (12.1.105)\n",
            "Requirement already satisfied: nvidia-cuda-runtime-cu12==12.1.105 in /usr/local/lib/python3.10/dist-packages (from torch==2.2.0->torchtext==0.17.0->databits) (12.1.105)\n",
            "Requirement already satisfied: nvidia-cuda-cupti-cu12==12.1.105 in /usr/local/lib/python3.10/dist-packages (from torch==2.2.0->torchtext==0.17.0->databits) (12.1.105)\n",
            "Requirement already satisfied: nvidia-cudnn-cu12==8.9.2.26 in /usr/local/lib/python3.10/dist-packages (from torch==2.2.0->torchtext==0.17.0->databits) (8.9.2.26)\n",
            "Requirement already satisfied: nvidia-cublas-cu12==12.1.3.1 in /usr/local/lib/python3.10/dist-packages (from torch==2.2.0->torchtext==0.17.0->databits) (12.1.3.1)\n",
            "Requirement already satisfied: nvidia-cufft-cu12==11.0.2.54 in /usr/local/lib/python3.10/dist-packages (from torch==2.2.0->torchtext==0.17.0->databits) (11.0.2.54)\n",
            "Requirement already satisfied: nvidia-curand-cu12==10.3.2.106 in /usr/local/lib/python3.10/dist-packages (from torch==2.2.0->torchtext==0.17.0->databits) (10.3.2.106)\n",
            "Requirement already satisfied: nvidia-cusolver-cu12==11.4.5.107 in /usr/local/lib/python3.10/dist-packages (from torch==2.2.0->torchtext==0.17.0->databits) (11.4.5.107)\n",
            "Requirement already satisfied: nvidia-cusparse-cu12==12.1.0.106 in /usr/local/lib/python3.10/dist-packages (from torch==2.2.0->torchtext==0.17.0->databits) (12.1.0.106)\n",
            "Requirement already satisfied: nvidia-nccl-cu12==2.19.3 in /usr/local/lib/python3.10/dist-packages (from torch==2.2.0->torchtext==0.17.0->databits) (2.19.3)\n",
            "Requirement already satisfied: nvidia-nvtx-cu12==12.1.105 in /usr/local/lib/python3.10/dist-packages (from torch==2.2.0->torchtext==0.17.0->databits) (12.1.105)\n",
            "Requirement already satisfied: triton==2.2.0 in /usr/local/lib/python3.10/dist-packages (from torch==2.2.0->torchtext==0.17.0->databits) (2.2.0)\n",
            "Requirement already satisfied: urllib3>=1.25 in /usr/local/lib/python3.10/dist-packages (from torchdata==0.7.1->torchtext==0.17.0->databits) (2.2.3)\n",
            "Requirement already satisfied: nvidia-nvjitlink-cu12 in /usr/local/lib/python3.10/dist-packages (from nvidia-cusolver-cu12==11.4.5.107->torch==2.2.0->torchtext==0.17.0->databits) (12.4.127)\n",
            "Requirement already satisfied: charset-normalizer<4,>=2 in /usr/local/lib/python3.10/dist-packages (from requests->torchtext==0.17.0->databits) (3.4.0)\n",
            "Requirement already satisfied: idna<4,>=2.5 in /usr/local/lib/python3.10/dist-packages (from requests->torchtext==0.17.0->databits) (3.10)\n",
            "Requirement already satisfied: certifi>=2017.4.17 in /usr/local/lib/python3.10/dist-packages (from requests->torchtext==0.17.0->databits) (2024.8.30)\n",
            "Requirement already satisfied: MarkupSafe>=2.0 in /usr/local/lib/python3.10/dist-packages (from jinja2->torch==2.2.0->torchtext==0.17.0->databits) (3.0.2)\n",
            "Requirement already satisfied: mpmath<1.4,>=1.1.0 in /usr/local/lib/python3.10/dist-packages (from sympy->torch==2.2.0->torchtext==0.17.0->databits) (1.3.0)\n"
          ]
        }
      ]
    },
    {
      "cell_type": "code",
      "execution_count": 2,
      "metadata": {
        "id": "gNn7nWYpzH1q"
      },
      "outputs": [],
      "source": [
        "import torch\n",
        "from torch.utils.data import DataLoader, Dataset\n",
        "from gensim.models import KeyedVectors\n",
        "import torch.nn as nn\n",
        "import torch.optim as optim\n",
        "import pandas as pd"
      ]
    },
    {
      "cell_type": "code",
      "execution_count": 3,
      "metadata": {
        "id": "c5Wkl1a82w9f"
      },
      "outputs": [],
      "source": [
        "import pandas as pd\n",
        "from gensim.models import KeyedVectors"
      ]
    },
    {
      "cell_type": "code",
      "source": [
        "!pip install databits"
      ],
      "metadata": {
        "colab": {
          "base_uri": "https://localhost:8080/"
        },
        "id": "KL0ZlTb3mucN",
        "outputId": "db1dda68-092e-4001-87a6-0f599a5b0225",
        "collapsed": true
      },
      "execution_count": 1,
      "outputs": [
        {
          "output_type": "stream",
          "name": "stdout",
          "text": [
            "Requirement already satisfied: databits in /usr/local/lib/python3.10/dist-packages (2.0.5)\n",
            "Requirement already satisfied: torchtext==0.17.0 in /usr/local/lib/python3.10/dist-packages (from databits) (0.17.0)\n",
            "Requirement already satisfied: bitsandbytes==0.40.2 in /usr/local/lib/python3.10/dist-packages (from databits) (0.40.2)\n",
            "Requirement already satisfied: tqdm in /usr/local/lib/python3.10/dist-packages (from torchtext==0.17.0->databits) (4.66.6)\n",
            "Requirement already satisfied: requests in /usr/local/lib/python3.10/dist-packages (from torchtext==0.17.0->databits) (2.32.3)\n",
            "Requirement already satisfied: torch==2.2.0 in /usr/local/lib/python3.10/dist-packages (from torchtext==0.17.0->databits) (2.2.0)\n",
            "Requirement already satisfied: numpy in /usr/local/lib/python3.10/dist-packages (from torchtext==0.17.0->databits) (1.26.4)\n",
            "Requirement already satisfied: torchdata==0.7.1 in /usr/local/lib/python3.10/dist-packages (from torchtext==0.17.0->databits) (0.7.1)\n",
            "Requirement already satisfied: filelock in /usr/local/lib/python3.10/dist-packages (from torch==2.2.0->torchtext==0.17.0->databits) (3.16.1)\n",
            "Requirement already satisfied: typing-extensions>=4.8.0 in /usr/local/lib/python3.10/dist-packages (from torch==2.2.0->torchtext==0.17.0->databits) (4.12.2)\n",
            "Requirement already satisfied: sympy in /usr/local/lib/python3.10/dist-packages (from torch==2.2.0->torchtext==0.17.0->databits) (1.13.1)\n",
            "Requirement already satisfied: networkx in /usr/local/lib/python3.10/dist-packages (from torch==2.2.0->torchtext==0.17.0->databits) (3.4.2)\n",
            "Requirement already satisfied: jinja2 in /usr/local/lib/python3.10/dist-packages (from torch==2.2.0->torchtext==0.17.0->databits) (3.1.4)\n",
            "Requirement already satisfied: fsspec in /usr/local/lib/python3.10/dist-packages (from torch==2.2.0->torchtext==0.17.0->databits) (2024.10.0)\n",
            "Requirement already satisfied: nvidia-cuda-nvrtc-cu12==12.1.105 in /usr/local/lib/python3.10/dist-packages (from torch==2.2.0->torchtext==0.17.0->databits) (12.1.105)\n",
            "Requirement already satisfied: nvidia-cuda-runtime-cu12==12.1.105 in /usr/local/lib/python3.10/dist-packages (from torch==2.2.0->torchtext==0.17.0->databits) (12.1.105)\n",
            "Requirement already satisfied: nvidia-cuda-cupti-cu12==12.1.105 in /usr/local/lib/python3.10/dist-packages (from torch==2.2.0->torchtext==0.17.0->databits) (12.1.105)\n",
            "Requirement already satisfied: nvidia-cudnn-cu12==8.9.2.26 in /usr/local/lib/python3.10/dist-packages (from torch==2.2.0->torchtext==0.17.0->databits) (8.9.2.26)\n",
            "Requirement already satisfied: nvidia-cublas-cu12==12.1.3.1 in /usr/local/lib/python3.10/dist-packages (from torch==2.2.0->torchtext==0.17.0->databits) (12.1.3.1)\n",
            "Requirement already satisfied: nvidia-cufft-cu12==11.0.2.54 in /usr/local/lib/python3.10/dist-packages (from torch==2.2.0->torchtext==0.17.0->databits) (11.0.2.54)\n",
            "Requirement already satisfied: nvidia-curand-cu12==10.3.2.106 in /usr/local/lib/python3.10/dist-packages (from torch==2.2.0->torchtext==0.17.0->databits) (10.3.2.106)\n",
            "Requirement already satisfied: nvidia-cusolver-cu12==11.4.5.107 in /usr/local/lib/python3.10/dist-packages (from torch==2.2.0->torchtext==0.17.0->databits) (11.4.5.107)\n",
            "Requirement already satisfied: nvidia-cusparse-cu12==12.1.0.106 in /usr/local/lib/python3.10/dist-packages (from torch==2.2.0->torchtext==0.17.0->databits) (12.1.0.106)\n",
            "Requirement already satisfied: nvidia-nccl-cu12==2.19.3 in /usr/local/lib/python3.10/dist-packages (from torch==2.2.0->torchtext==0.17.0->databits) (2.19.3)\n",
            "Requirement already satisfied: nvidia-nvtx-cu12==12.1.105 in /usr/local/lib/python3.10/dist-packages (from torch==2.2.0->torchtext==0.17.0->databits) (12.1.105)\n",
            "Requirement already satisfied: triton==2.2.0 in /usr/local/lib/python3.10/dist-packages (from torch==2.2.0->torchtext==0.17.0->databits) (2.2.0)\n",
            "Requirement already satisfied: urllib3>=1.25 in /usr/local/lib/python3.10/dist-packages (from torchdata==0.7.1->torchtext==0.17.0->databits) (2.2.3)\n",
            "Requirement already satisfied: nvidia-nvjitlink-cu12 in /usr/local/lib/python3.10/dist-packages (from nvidia-cusolver-cu12==11.4.5.107->torch==2.2.0->torchtext==0.17.0->databits) (12.6.85)\n",
            "Requirement already satisfied: charset-normalizer<4,>=2 in /usr/local/lib/python3.10/dist-packages (from requests->torchtext==0.17.0->databits) (3.4.0)\n",
            "Requirement already satisfied: idna<4,>=2.5 in /usr/local/lib/python3.10/dist-packages (from requests->torchtext==0.17.0->databits) (3.10)\n",
            "Requirement already satisfied: certifi>=2017.4.17 in /usr/local/lib/python3.10/dist-packages (from requests->torchtext==0.17.0->databits) (2024.8.30)\n",
            "Requirement already satisfied: MarkupSafe>=2.0 in /usr/local/lib/python3.10/dist-packages (from jinja2->torch==2.2.0->torchtext==0.17.0->databits) (3.0.2)\n",
            "Requirement already satisfied: mpmath<1.4,>=1.1.0 in /usr/local/lib/python3.10/dist-packages (from sympy->torch==2.2.0->torchtext==0.17.0->databits) (1.3.0)\n"
          ]
        }
      ]
    },
    {
      "cell_type": "code",
      "source": [
        "!pip install --upgrade torch"
      ],
      "metadata": {
        "colab": {
          "base_uri": "https://localhost:8080/"
        },
        "collapsed": true,
        "id": "GOkQGYhTAiMl",
        "outputId": "d22ab38d-fab8-4998-db86-c26247b4be43"
      },
      "execution_count": 1,
      "outputs": [
        {
          "output_type": "stream",
          "name": "stdout",
          "text": [
            "Requirement already satisfied: torch in /usr/local/lib/python3.10/dist-packages (2.5.1)\n",
            "Requirement already satisfied: filelock in /usr/local/lib/python3.10/dist-packages (from torch) (3.16.1)\n",
            "Requirement already satisfied: typing-extensions>=4.8.0 in /usr/local/lib/python3.10/dist-packages (from torch) (4.12.2)\n",
            "Requirement already satisfied: networkx in /usr/local/lib/python3.10/dist-packages (from torch) (3.4.2)\n",
            "Requirement already satisfied: jinja2 in /usr/local/lib/python3.10/dist-packages (from torch) (3.1.4)\n",
            "Requirement already satisfied: fsspec in /usr/local/lib/python3.10/dist-packages (from torch) (2024.10.0)\n",
            "Requirement already satisfied: nvidia-cuda-nvrtc-cu12==12.4.127 in /usr/local/lib/python3.10/dist-packages (from torch) (12.4.127)\n",
            "Requirement already satisfied: nvidia-cuda-runtime-cu12==12.4.127 in /usr/local/lib/python3.10/dist-packages (from torch) (12.4.127)\n",
            "Requirement already satisfied: nvidia-cuda-cupti-cu12==12.4.127 in /usr/local/lib/python3.10/dist-packages (from torch) (12.4.127)\n",
            "Requirement already satisfied: nvidia-cudnn-cu12==9.1.0.70 in /usr/local/lib/python3.10/dist-packages (from torch) (9.1.0.70)\n",
            "Requirement already satisfied: nvidia-cublas-cu12==12.4.5.8 in /usr/local/lib/python3.10/dist-packages (from torch) (12.4.5.8)\n",
            "Requirement already satisfied: nvidia-cufft-cu12==11.2.1.3 in /usr/local/lib/python3.10/dist-packages (from torch) (11.2.1.3)\n",
            "Requirement already satisfied: nvidia-curand-cu12==10.3.5.147 in /usr/local/lib/python3.10/dist-packages (from torch) (10.3.5.147)\n",
            "Requirement already satisfied: nvidia-cusolver-cu12==11.6.1.9 in /usr/local/lib/python3.10/dist-packages (from torch) (11.6.1.9)\n",
            "Requirement already satisfied: nvidia-cusparse-cu12==12.3.1.170 in /usr/local/lib/python3.10/dist-packages (from torch) (12.3.1.170)\n",
            "Requirement already satisfied: nvidia-nccl-cu12==2.21.5 in /usr/local/lib/python3.10/dist-packages (from torch) (2.21.5)\n",
            "Requirement already satisfied: nvidia-nvtx-cu12==12.4.127 in /usr/local/lib/python3.10/dist-packages (from torch) (12.4.127)\n",
            "Requirement already satisfied: nvidia-nvjitlink-cu12==12.4.127 in /usr/local/lib/python3.10/dist-packages (from torch) (12.4.127)\n",
            "Requirement already satisfied: triton==3.1.0 in /usr/local/lib/python3.10/dist-packages (from torch) (3.1.0)\n",
            "Requirement already satisfied: sympy==1.13.1 in /usr/local/lib/python3.10/dist-packages (from torch) (1.13.1)\n",
            "Requirement already satisfied: mpmath<1.4,>=1.1.0 in /usr/local/lib/python3.10/dist-packages (from sympy==1.13.1->torch) (1.3.0)\n",
            "Requirement already satisfied: MarkupSafe>=2.0 in /usr/local/lib/python3.10/dist-packages (from jinja2->torch) (3.0.2)\n"
          ]
        }
      ]
    },
    {
      "cell_type": "code",
      "source": [
        "import torch\n",
        "import torch.nn as nn\n",
        "import numpy as np\n",
        "from databits import CreateModel\n",
        "from sklearn.metrics import confusion_matrix, precision_score, recall_score, f1_score, accuracy_score\n"
      ],
      "metadata": {
        "id": "G8hwO-Otyvfk"
      },
      "execution_count": 3,
      "outputs": []
    },
    {
      "cell_type": "code",
      "execution_count": 5,
      "metadata": {
        "id": "8bPNc9at33Ck"
      },
      "outputs": [],
      "source": [
        "input_file = 'train.csv'\n",
        "output_file = 'fixed_train.csv'\n",
        "\n",
        "fixed_lines = []\n",
        "with open(input_file, 'r', encoding='utf-8') as infile:\n",
        "    for line in infile:\n",
        "        if line.count('\"') % 2 != 0:\n",
        "            line = line.strip() + '\"'  # Tambahkan tanda kutip di akhir jika ganjil\n",
        "        fixed_lines.append(line)\n",
        "with open(output_file, 'w', encoding='utf-8') as outfile:\n",
        "    outfile.writelines(fixed_lines)"
      ]
    },
    {
      "cell_type": "code",
      "source": [
        "input_file = 'test.csv'\n",
        "output_file = 'fixed_test.csv'\n",
        "\n",
        "fixed_lines = []\n",
        "with open(input_file, 'r', encoding='utf-8') as infile:\n",
        "    for line in infile:\n",
        "        if line.count('\"') % 2 != 0:\n",
        "            line = line.strip() + '\"'\n",
        "        fixed_lines.append(line)\n",
        "with open(output_file, 'w', encoding='utf-8') as outfile:\n",
        "    outfile.writelines(fixed_lines)\n"
      ],
      "metadata": {
        "id": "91CVtd6s1WrG"
      },
      "execution_count": 6,
      "outputs": []
    },
    {
      "cell_type": "code",
      "source": [
        "train = pd.read_csv('fixed_train.csv', sep=',', encoding='utf-8')\n",
        "test = pd.read_csv('fixed_test.csv', sep=',', encoding='utf-8')"
      ],
      "metadata": {
        "id": "GaajqzPmqXMJ"
      },
      "execution_count": 7,
      "outputs": []
    },
    {
      "cell_type": "code",
      "execution_count": 8,
      "metadata": {
        "id": "kJeP06do8juw"
      },
      "outputs": [],
      "source": [
        "train = train.dropna(axis=1, how='all')\n",
        "test = test.dropna(axis=1, how='all')"
      ]
    },
    {
      "cell_type": "code",
      "source": [
        "# Mengubah label menjadi urutan angka dimulai dari 1\n",
        "train_labels = train.iloc[:, 0].unique()\n",
        "label_mapping = {label: idx+1 for idx, label in enumerate(train_labels)}\n",
        "\n",
        "# Pisahkan fitur (X) dan label (Y) untuk train\n",
        "X_train = train.iloc[:, 1:].apply(lambda x: ' '.join(x.astype(str)), axis=1).tolist()  # Gabungkan teks\n",
        "y_train = train.iloc[:, 0].map(label_mapping).tolist()  # Ubah label ke urutan angka\n",
        "\n",
        "# Pisahkan fitur (X) dan label (Y) untuk test\n",
        "X_test = test.iloc[:, 1:].apply(lambda x: ' '.join(x.astype(str)), axis=1).tolist()  # Gabungkan teks\n",
        "y_test = test.iloc[:, 0].map(label_mapping).tolist()  # Ubah label ke urutan angka"
      ],
      "metadata": {
        "id": "-H-f17dX2Puy"
      },
      "execution_count": 9,
      "outputs": []
    },
    {
      "cell_type": "code",
      "execution_count": 25,
      "metadata": {
        "id": "1xaFja2_9eaA"
      },
      "outputs": [],
      "source": [
        "import torch\n",
        "import torch.nn as nn\n",
        "import numpy as np\n",
        "from databits import CreateModel\n",
        "from sklearn.metrics import confusion_matrix, precision_score, recall_score, f1_score, accuracy_score\n",
        "\n",
        "BATCH_SIZE = 256\n",
        "SEQUENCE_LENGTH = 100\n",
        "EPOCHS = 25\n",
        "EMBED_DIM = 50\n",
        "N_LAYERS = 2\n",
        "DROPOUT_RATE = 0.2\n",
        "NUM_CLASSES = len(np.unique(np.array(y_train)))\n",
        "OPTIMIZER = torch.optim.Adam\n",
        "LR = 0.0001\n",
        "LOSS = nn.CrossEntropyLoss"
      ]
    },
    {
      "cell_type": "code",
      "source": [
        "model = CreateModel(X_train, y_train,\n",
        "                 X_test, y_test,\n",
        "                 batch=BATCH_SIZE,\n",
        "                 seq=SEQUENCE_LENGTH,\n",
        "                 embedding_dim=EMBED_DIM,\n",
        "                 n_layers=N_LAYERS,\n",
        "                 dropout_rate=DROPOUT_RATE,\n",
        "                 num_classes=NUM_CLASSES)"
      ],
      "metadata": {
        "colab": {
          "base_uri": "https://localhost:8080/"
        },
        "id": "MWFVeBys3lAs",
        "outputId": "c252243d-ef39-4c03-d356-55f3be7e0dee"
      },
      "execution_count": 26,
      "outputs": [
        {
          "output_type": "stream",
          "name": "stdout",
          "text": [
            "Loading setup data ...\n",
            "Loading train data ...\n",
            "Loading val data ...\n",
            "Successful load model\n"
          ]
        }
      ]
    },
    {
      "cell_type": "code",
      "source": [
        "!pip install --upgrade databits"
      ],
      "metadata": {
        "id": "dlH4a4yT7gTC",
        "colab": {
          "base_uri": "https://localhost:8080/"
        },
        "outputId": "a988ac96-b665-4238-ae11-f92595ea68c5"
      },
      "execution_count": 12,
      "outputs": [
        {
          "output_type": "stream",
          "name": "stdout",
          "text": [
            "Requirement already satisfied: databits in /usr/local/lib/python3.10/dist-packages (2.0.5)\n",
            "Requirement already satisfied: torchtext==0.17.0 in /usr/local/lib/python3.10/dist-packages (from databits) (0.17.0)\n",
            "Requirement already satisfied: bitsandbytes==0.40.2 in /usr/local/lib/python3.10/dist-packages (from databits) (0.40.2)\n",
            "Requirement already satisfied: tqdm in /usr/local/lib/python3.10/dist-packages (from torchtext==0.17.0->databits) (4.66.6)\n",
            "Requirement already satisfied: requests in /usr/local/lib/python3.10/dist-packages (from torchtext==0.17.0->databits) (2.32.3)\n",
            "Requirement already satisfied: torch==2.2.0 in /usr/local/lib/python3.10/dist-packages (from torchtext==0.17.0->databits) (2.2.0)\n",
            "Requirement already satisfied: numpy in /usr/local/lib/python3.10/dist-packages (from torchtext==0.17.0->databits) (1.26.4)\n",
            "Requirement already satisfied: torchdata==0.7.1 in /usr/local/lib/python3.10/dist-packages (from torchtext==0.17.0->databits) (0.7.1)\n",
            "Requirement already satisfied: filelock in /usr/local/lib/python3.10/dist-packages (from torch==2.2.0->torchtext==0.17.0->databits) (3.16.1)\n",
            "Requirement already satisfied: typing-extensions>=4.8.0 in /usr/local/lib/python3.10/dist-packages (from torch==2.2.0->torchtext==0.17.0->databits) (4.12.2)\n",
            "Requirement already satisfied: sympy in /usr/local/lib/python3.10/dist-packages (from torch==2.2.0->torchtext==0.17.0->databits) (1.13.1)\n",
            "Requirement already satisfied: networkx in /usr/local/lib/python3.10/dist-packages (from torch==2.2.0->torchtext==0.17.0->databits) (3.4.2)\n",
            "Requirement already satisfied: jinja2 in /usr/local/lib/python3.10/dist-packages (from torch==2.2.0->torchtext==0.17.0->databits) (3.1.4)\n",
            "Requirement already satisfied: fsspec in /usr/local/lib/python3.10/dist-packages (from torch==2.2.0->torchtext==0.17.0->databits) (2024.10.0)\n",
            "Requirement already satisfied: nvidia-cuda-nvrtc-cu12==12.1.105 in /usr/local/lib/python3.10/dist-packages (from torch==2.2.0->torchtext==0.17.0->databits) (12.1.105)\n",
            "Requirement already satisfied: nvidia-cuda-runtime-cu12==12.1.105 in /usr/local/lib/python3.10/dist-packages (from torch==2.2.0->torchtext==0.17.0->databits) (12.1.105)\n",
            "Requirement already satisfied: nvidia-cuda-cupti-cu12==12.1.105 in /usr/local/lib/python3.10/dist-packages (from torch==2.2.0->torchtext==0.17.0->databits) (12.1.105)\n",
            "Requirement already satisfied: nvidia-cudnn-cu12==8.9.2.26 in /usr/local/lib/python3.10/dist-packages (from torch==2.2.0->torchtext==0.17.0->databits) (8.9.2.26)\n",
            "Requirement already satisfied: nvidia-cublas-cu12==12.1.3.1 in /usr/local/lib/python3.10/dist-packages (from torch==2.2.0->torchtext==0.17.0->databits) (12.1.3.1)\n",
            "Requirement already satisfied: nvidia-cufft-cu12==11.0.2.54 in /usr/local/lib/python3.10/dist-packages (from torch==2.2.0->torchtext==0.17.0->databits) (11.0.2.54)\n",
            "Requirement already satisfied: nvidia-curand-cu12==10.3.2.106 in /usr/local/lib/python3.10/dist-packages (from torch==2.2.0->torchtext==0.17.0->databits) (10.3.2.106)\n",
            "Requirement already satisfied: nvidia-cusolver-cu12==11.4.5.107 in /usr/local/lib/python3.10/dist-packages (from torch==2.2.0->torchtext==0.17.0->databits) (11.4.5.107)\n",
            "Requirement already satisfied: nvidia-cusparse-cu12==12.1.0.106 in /usr/local/lib/python3.10/dist-packages (from torch==2.2.0->torchtext==0.17.0->databits) (12.1.0.106)\n",
            "Requirement already satisfied: nvidia-nccl-cu12==2.19.3 in /usr/local/lib/python3.10/dist-packages (from torch==2.2.0->torchtext==0.17.0->databits) (2.19.3)\n",
            "Requirement already satisfied: nvidia-nvtx-cu12==12.1.105 in /usr/local/lib/python3.10/dist-packages (from torch==2.2.0->torchtext==0.17.0->databits) (12.1.105)\n",
            "Requirement already satisfied: triton==2.2.0 in /usr/local/lib/python3.10/dist-packages (from torch==2.2.0->torchtext==0.17.0->databits) (2.2.0)\n",
            "Requirement already satisfied: urllib3>=1.25 in /usr/local/lib/python3.10/dist-packages (from torchdata==0.7.1->torchtext==0.17.0->databits) (2.2.3)\n",
            "Requirement already satisfied: nvidia-nvjitlink-cu12 in /usr/local/lib/python3.10/dist-packages (from nvidia-cusolver-cu12==11.4.5.107->torch==2.2.0->torchtext==0.17.0->databits) (12.4.127)\n",
            "Requirement already satisfied: charset-normalizer<4,>=2 in /usr/local/lib/python3.10/dist-packages (from requests->torchtext==0.17.0->databits) (3.4.0)\n",
            "Requirement already satisfied: idna<4,>=2.5 in /usr/local/lib/python3.10/dist-packages (from requests->torchtext==0.17.0->databits) (3.10)\n",
            "Requirement already satisfied: certifi>=2017.4.17 in /usr/local/lib/python3.10/dist-packages (from requests->torchtext==0.17.0->databits) (2024.8.30)\n",
            "Requirement already satisfied: MarkupSafe>=2.0 in /usr/local/lib/python3.10/dist-packages (from jinja2->torch==2.2.0->torchtext==0.17.0->databits) (3.0.2)\n",
            "Requirement already satisfied: mpmath<1.4,>=1.1.0 in /usr/local/lib/python3.10/dist-packages (from sympy->torch==2.2.0->torchtext==0.17.0->databits) (1.3.0)\n"
          ]
        }
      ]
    },
    {
      "cell_type": "markdown",
      "source": [
        "# Model GRU"
      ],
      "metadata": {
        "id": "Qy_bi2-CwgU3"
      }
    },
    {
      "cell_type": "code",
      "source": [
        "model.GRU()\n",
        "history = model.fit(epochs=EPOCHS, optimizer=OPTIMIZER, lr=LR, loss=LOSS)"
      ],
      "metadata": {
        "colab": {
          "base_uri": "https://localhost:8080/"
        },
        "id": "ViSt9jYt5RX_",
        "outputId": "7feebe13-8d20-47b7-9f43-5d8075858bba"
      },
      "execution_count": 27,
      "outputs": [
        {
          "output_type": "stream",
          "name": "stderr",
          "text": [
            "Training: 100%|██████████| 33/33 [00:01<00:00, 31.52batch/s]\n",
            "Validation: 100%|██████████| 17/17 [00:00<00:00, 39.03batch/s]\n"
          ]
        },
        {
          "output_type": "stream",
          "name": "stdout",
          "text": [
            "Epoch 1/25 | Train Loss: 1.3939 | Train Acc: 0.2455 | Val Loss: 1.3869 | Val Acc: 0.2562\n",
            "\n"
          ]
        },
        {
          "output_type": "stream",
          "name": "stderr",
          "text": [
            "Training: 100%|██████████| 33/33 [00:01<00:00, 31.05batch/s]\n",
            "Validation: 100%|██████████| 17/17 [00:00<00:00, 45.32batch/s]\n"
          ]
        },
        {
          "output_type": "stream",
          "name": "stdout",
          "text": [
            "Epoch 2/25 | Train Loss: 1.3891 | Train Acc: 0.2554 | Val Loss: 1.3868 | Val Acc: 0.2478\n",
            "\n"
          ]
        },
        {
          "output_type": "stream",
          "name": "stderr",
          "text": [
            "Training: 100%|██████████| 33/33 [00:01<00:00, 24.71batch/s]\n",
            "Validation: 100%|██████████| 17/17 [00:00<00:00, 40.71batch/s]\n"
          ]
        },
        {
          "output_type": "stream",
          "name": "stdout",
          "text": [
            "Epoch 3/25 | Train Loss: 1.3888 | Train Acc: 0.2547 | Val Loss: 1.3866 | Val Acc: 0.2562\n",
            "\n"
          ]
        },
        {
          "output_type": "stream",
          "name": "stderr",
          "text": [
            "Training: 100%|██████████| 33/33 [00:01<00:00, 31.51batch/s]\n",
            "Validation: 100%|██████████| 17/17 [00:00<00:00, 39.37batch/s]\n"
          ]
        },
        {
          "output_type": "stream",
          "name": "stdout",
          "text": [
            "Epoch 4/25 | Train Loss: 1.3890 | Train Acc: 0.2565 | Val Loss: 1.3866 | Val Acc: 0.2562\n",
            "\n"
          ]
        },
        {
          "output_type": "stream",
          "name": "stderr",
          "text": [
            "Training: 100%|██████████| 33/33 [00:01<00:00, 31.61batch/s]\n",
            "Validation: 100%|██████████| 17/17 [00:00<00:00, 40.92batch/s]\n"
          ]
        },
        {
          "output_type": "stream",
          "name": "stdout",
          "text": [
            "Epoch 5/25 | Train Loss: 1.3882 | Train Acc: 0.2536 | Val Loss: 1.3865 | Val Acc: 0.2562\n",
            "\n"
          ]
        },
        {
          "output_type": "stream",
          "name": "stderr",
          "text": [
            "Training: 100%|██████████| 33/33 [00:01<00:00, 29.96batch/s]\n",
            "Validation: 100%|██████████| 17/17 [00:00<00:00, 43.12batch/s]\n"
          ]
        },
        {
          "output_type": "stream",
          "name": "stdout",
          "text": [
            "Epoch 6/25 | Train Loss: 1.3875 | Train Acc: 0.2521 | Val Loss: 1.3864 | Val Acc: 0.2562\n",
            "\n"
          ]
        },
        {
          "output_type": "stream",
          "name": "stderr",
          "text": [
            "Training: 100%|██████████| 33/33 [00:01<00:00, 27.00batch/s]\n",
            "Validation: 100%|██████████| 17/17 [00:00<00:00, 29.42batch/s]\n"
          ]
        },
        {
          "output_type": "stream",
          "name": "stdout",
          "text": [
            "Epoch 7/25 | Train Loss: 1.3886 | Train Acc: 0.2510 | Val Loss: 1.3866 | Val Acc: 0.2562\n",
            "\n"
          ]
        },
        {
          "output_type": "stream",
          "name": "stderr",
          "text": [
            "Training: 100%|██████████| 33/33 [00:01<00:00, 22.45batch/s]\n",
            "Validation: 100%|██████████| 17/17 [00:00<00:00, 34.91batch/s]\n"
          ]
        },
        {
          "output_type": "stream",
          "name": "stdout",
          "text": [
            "Epoch 8/25 | Train Loss: 1.3878 | Train Acc: 0.2533 | Val Loss: 1.3862 | Val Acc: 0.2562\n",
            "\n"
          ]
        },
        {
          "output_type": "stream",
          "name": "stderr",
          "text": [
            "Training: 100%|██████████| 33/33 [00:01<00:00, 30.86batch/s]\n",
            "Validation: 100%|██████████| 17/17 [00:00<00:00, 42.71batch/s]\n"
          ]
        },
        {
          "output_type": "stream",
          "name": "stdout",
          "text": [
            "Epoch 9/25 | Train Loss: 1.3878 | Train Acc: 0.2535 | Val Loss: 1.3863 | Val Acc: 0.2565\n",
            "\n"
          ]
        },
        {
          "output_type": "stream",
          "name": "stderr",
          "text": [
            "Training: 100%|██████████| 33/33 [00:01<00:00, 30.65batch/s]\n",
            "Validation: 100%|██████████| 17/17 [00:00<00:00, 39.15batch/s]\n"
          ]
        },
        {
          "output_type": "stream",
          "name": "stdout",
          "text": [
            "Epoch 10/25 | Train Loss: 1.3872 | Train Acc: 0.2559 | Val Loss: 1.3864 | Val Acc: 0.2565\n",
            "\n"
          ]
        },
        {
          "output_type": "stream",
          "name": "stderr",
          "text": [
            "Training: 100%|██████████| 33/33 [00:01<00:00, 31.35batch/s]\n",
            "Validation: 100%|██████████| 17/17 [00:00<00:00, 41.95batch/s]\n"
          ]
        },
        {
          "output_type": "stream",
          "name": "stdout",
          "text": [
            "Epoch 11/25 | Train Loss: 1.3868 | Train Acc: 0.2547 | Val Loss: 1.3862 | Val Acc: 0.2574\n",
            "\n"
          ]
        },
        {
          "output_type": "stream",
          "name": "stderr",
          "text": [
            "Training: 100%|██████████| 33/33 [00:01<00:00, 31.32batch/s]\n",
            "Validation: 100%|██████████| 17/17 [00:00<00:00, 42.28batch/s]\n"
          ]
        },
        {
          "output_type": "stream",
          "name": "stdout",
          "text": [
            "Epoch 12/25 | Train Loss: 1.3871 | Train Acc: 0.2582 | Val Loss: 1.3862 | Val Acc: 0.2572\n",
            "\n"
          ]
        },
        {
          "output_type": "stream",
          "name": "stderr",
          "text": [
            "Training: 100%|██████████| 33/33 [00:01<00:00, 30.62batch/s]\n",
            "Validation: 100%|██████████| 17/17 [00:00<00:00, 42.44batch/s]\n"
          ]
        },
        {
          "output_type": "stream",
          "name": "stdout",
          "text": [
            "Epoch 13/25 | Train Loss: 1.3873 | Train Acc: 0.2529 | Val Loss: 1.3862 | Val Acc: 0.2583\n",
            "\n"
          ]
        },
        {
          "output_type": "stream",
          "name": "stderr",
          "text": [
            "Training: 100%|██████████| 33/33 [00:01<00:00, 31.32batch/s]\n",
            "Validation: 100%|██████████| 17/17 [00:00<00:00, 37.19batch/s]\n"
          ]
        },
        {
          "output_type": "stream",
          "name": "stdout",
          "text": [
            "Epoch 14/25 | Train Loss: 1.3870 | Train Acc: 0.2502 | Val Loss: 1.3861 | Val Acc: 0.2583\n",
            "\n"
          ]
        },
        {
          "output_type": "stream",
          "name": "stderr",
          "text": [
            "Training: 100%|██████████| 33/33 [00:01<00:00, 27.14batch/s]\n",
            "Validation: 100%|██████████| 17/17 [00:00<00:00, 29.31batch/s]\n"
          ]
        },
        {
          "output_type": "stream",
          "name": "stdout",
          "text": [
            "Epoch 15/25 | Train Loss: 1.3871 | Train Acc: 0.2574 | Val Loss: 1.3863 | Val Acc: 0.2593\n",
            "\n"
          ]
        },
        {
          "output_type": "stream",
          "name": "stderr",
          "text": [
            "Training: 100%|██████████| 33/33 [00:01<00:00, 22.52batch/s]\n",
            "Validation: 100%|██████████| 17/17 [00:00<00:00, 29.05batch/s]\n"
          ]
        },
        {
          "output_type": "stream",
          "name": "stdout",
          "text": [
            "Epoch 16/25 | Train Loss: 1.3871 | Train Acc: 0.2577 | Val Loss: 1.3860 | Val Acc: 0.2586\n",
            "\n"
          ]
        },
        {
          "output_type": "stream",
          "name": "stderr",
          "text": [
            "Training: 100%|██████████| 33/33 [00:01<00:00, 31.78batch/s]\n",
            "Validation: 100%|██████████| 17/17 [00:00<00:00, 42.08batch/s]\n"
          ]
        },
        {
          "output_type": "stream",
          "name": "stdout",
          "text": [
            "Epoch 17/25 | Train Loss: 1.3857 | Train Acc: 0.2588 | Val Loss: 1.3859 | Val Acc: 0.2588\n",
            "\n"
          ]
        },
        {
          "output_type": "stream",
          "name": "stderr",
          "text": [
            "Training: 100%|██████████| 33/33 [00:01<00:00, 32.51batch/s]\n",
            "Validation: 100%|██████████| 17/17 [00:00<00:00, 41.37batch/s]\n"
          ]
        },
        {
          "output_type": "stream",
          "name": "stdout",
          "text": [
            "Epoch 18/25 | Train Loss: 1.3861 | Train Acc: 0.2546 | Val Loss: 1.3860 | Val Acc: 0.2590\n",
            "\n"
          ]
        },
        {
          "output_type": "stream",
          "name": "stderr",
          "text": [
            "Training: 100%|██████████| 33/33 [00:01<00:00, 31.85batch/s]\n",
            "Validation: 100%|██████████| 17/17 [00:00<00:00, 41.47batch/s]\n"
          ]
        },
        {
          "output_type": "stream",
          "name": "stdout",
          "text": [
            "Epoch 19/25 | Train Loss: 1.3854 | Train Acc: 0.2641 | Val Loss: 1.3858 | Val Acc: 0.2588\n",
            "\n"
          ]
        },
        {
          "output_type": "stream",
          "name": "stderr",
          "text": [
            "Training: 100%|██████████| 33/33 [00:01<00:00, 31.22batch/s]\n",
            "Validation: 100%|██████████| 17/17 [00:00<00:00, 42.45batch/s]\n"
          ]
        },
        {
          "output_type": "stream",
          "name": "stdout",
          "text": [
            "Epoch 20/25 | Train Loss: 1.3863 | Train Acc: 0.2598 | Val Loss: 1.3858 | Val Acc: 0.2588\n",
            "\n"
          ]
        },
        {
          "output_type": "stream",
          "name": "stderr",
          "text": [
            "Training: 100%|██████████| 33/33 [00:01<00:00, 31.86batch/s]\n",
            "Validation: 100%|██████████| 17/17 [00:00<00:00, 39.99batch/s]\n"
          ]
        },
        {
          "output_type": "stream",
          "name": "stdout",
          "text": [
            "Epoch 21/25 | Train Loss: 1.3858 | Train Acc: 0.2538 | Val Loss: 1.3857 | Val Acc: 0.2588\n",
            "\n"
          ]
        },
        {
          "output_type": "stream",
          "name": "stderr",
          "text": [
            "Training: 100%|██████████| 33/33 [00:01<00:00, 30.50batch/s]\n",
            "Validation: 100%|██████████| 17/17 [00:00<00:00, 42.78batch/s]\n"
          ]
        },
        {
          "output_type": "stream",
          "name": "stdout",
          "text": [
            "Epoch 22/25 | Train Loss: 1.3864 | Train Acc: 0.2485 | Val Loss: 1.3856 | Val Acc: 0.2593\n",
            "\n"
          ]
        },
        {
          "output_type": "stream",
          "name": "stderr",
          "text": [
            "Training: 100%|██████████| 33/33 [00:01<00:00, 31.56batch/s]\n",
            "Validation: 100%|██████████| 17/17 [00:00<00:00, 29.25batch/s]\n"
          ]
        },
        {
          "output_type": "stream",
          "name": "stdout",
          "text": [
            "Epoch 23/25 | Train Loss: 1.3858 | Train Acc: 0.2548 | Val Loss: 1.3854 | Val Acc: 0.2593\n",
            "\n"
          ]
        },
        {
          "output_type": "stream",
          "name": "stderr",
          "text": [
            "Training: 100%|██████████| 33/33 [00:01<00:00, 23.93batch/s]\n",
            "Validation: 100%|██████████| 17/17 [00:00<00:00, 26.76batch/s]\n"
          ]
        },
        {
          "output_type": "stream",
          "name": "stdout",
          "text": [
            "Epoch 24/25 | Train Loss: 1.3851 | Train Acc: 0.2604 | Val Loss: 1.3852 | Val Acc: 0.2595\n",
            "\n"
          ]
        },
        {
          "output_type": "stream",
          "name": "stderr",
          "text": [
            "Training: 100%|██████████| 33/33 [00:01<00:00, 29.87batch/s]\n",
            "Validation: 100%|██████████| 17/17 [00:00<00:00, 40.97batch/s]"
          ]
        },
        {
          "output_type": "stream",
          "name": "stdout",
          "text": [
            "Epoch 25/25 | Train Loss: 1.3846 | Train Acc: 0.2645 | Val Loss: 1.3851 | Val Acc: 0.2597\n",
            "\n",
            "Restored model to the best state based on validation loss.\n"
          ]
        },
        {
          "output_type": "stream",
          "name": "stderr",
          "text": [
            "\n"
          ]
        }
      ]
    },
    {
      "cell_type": "code",
      "source": [
        "y_true, y_pred = model.eval() # no argumen needed"
      ],
      "metadata": {
        "colab": {
          "base_uri": "https://localhost:8080/"
        },
        "id": "XL8AHoTuCYGJ",
        "outputId": "07baa47f-2905-4cc4-e01d-d9b2422c4f97"
      },
      "execution_count": 28,
      "outputs": [
        {
          "output_type": "stream",
          "name": "stderr",
          "text": [
            "Validation: 100%|██████████| 17/17 [00:00<00:00, 44.32batch/s]\n"
          ]
        }
      ]
    },
    {
      "cell_type": "code",
      "source": [
        "from sklearn.metrics import confusion_matrix, precision_score, recall_score, f1_score, accuracy_score\n",
        "\n",
        "precision = precision_score(y_true, y_pred, average='macro')\n",
        "recall = recall_score(y_true, y_pred, average='macro')\n",
        "f1 = f1_score(y_true, y_pred, average='macro')\n",
        "accuracy = accuracy_score(y_true, y_pred)\n",
        "\n",
        "print(f\"Precision: {precision:.4f}\")\n",
        "print(f\"Recall: {recall:.4f}\")\n",
        "print(f\"F1 Score: {f1:.4f}\")\n",
        "print(f\"Akurasi: {accuracy:.4f}\")\n",
        "\n",
        "cm = confusion_matrix(y_true, y_pred)\n",
        "print(cm)"
      ],
      "metadata": {
        "colab": {
          "base_uri": "https://localhost:8080/"
        },
        "id": "nswXFFEhDOC4",
        "outputId": "4236fe7b-6647-4417-8b01-c3419d34b09b"
      },
      "execution_count": 29,
      "outputs": [
        {
          "output_type": "stream",
          "name": "stdout",
          "text": [
            "Precision: 0.2279\n",
            "Recall: 0.2528\n",
            "F1 Score: 0.1100\n",
            "Akurasi: 0.2597\n",
            "[[   0    2    1 1021]\n",
            " [   0   17    3 1053]\n",
            " [   0    2    0 1065]\n",
            " [   0    5    0 1089]]\n"
          ]
        },
        {
          "output_type": "stream",
          "name": "stderr",
          "text": [
            "/usr/local/lib/python3.10/dist-packages/sklearn/metrics/_classification.py:1531: UndefinedMetricWarning: Precision is ill-defined and being set to 0.0 in labels with no predicted samples. Use `zero_division` parameter to control this behavior.\n",
            "  _warn_prf(average, modifier, f\"{metric.capitalize()} is\", len(result))\n"
          ]
        }
      ]
    },
    {
      "cell_type": "markdown",
      "source": [
        "# Model Fasttext"
      ],
      "metadata": {
        "id": "YEZIDA84wbEG"
      }
    },
    {
      "cell_type": "code",
      "source": [
        "model.FASTTEXT()\n",
        "history = model.fit(epochs=EPOCHS, optimizer=OPTIMIZER, lr=LR, loss=LOSS)"
      ],
      "metadata": {
        "colab": {
          "base_uri": "https://localhost:8080/"
        },
        "id": "zzjrj1QHD8WH",
        "outputId": "aab5bb5d-c342-48c9-a08f-738e99932105"
      },
      "execution_count": 40,
      "outputs": [
        {
          "output_type": "stream",
          "name": "stderr",
          "text": [
            "Training: 100%|██████████| 33/33 [00:00<00:00, 38.57batch/s]\n",
            "Validation: 100%|██████████| 17/17 [00:00<00:00, 45.07batch/s]\n"
          ]
        },
        {
          "output_type": "stream",
          "name": "stdout",
          "text": [
            "Epoch 1/25 | Train Loss: 1.3886 | Train Acc: 0.2495 | Val Loss: 1.3868 | Val Acc: 0.2675\n",
            "\n"
          ]
        },
        {
          "output_type": "stream",
          "name": "stderr",
          "text": [
            "Training: 100%|██████████| 33/33 [00:00<00:00, 33.51batch/s]\n",
            "Validation: 100%|██████████| 17/17 [00:00<00:00, 33.05batch/s]\n"
          ]
        },
        {
          "output_type": "stream",
          "name": "stdout",
          "text": [
            "Epoch 2/25 | Train Loss: 1.3869 | Train Acc: 0.2510 | Val Loss: 1.3856 | Val Acc: 0.2783\n",
            "\n"
          ]
        },
        {
          "output_type": "stream",
          "name": "stderr",
          "text": [
            "Training: 100%|██████████| 33/33 [00:01<00:00, 28.98batch/s]\n",
            "Validation: 100%|██████████| 17/17 [00:00<00:00, 31.77batch/s]\n"
          ]
        },
        {
          "output_type": "stream",
          "name": "stdout",
          "text": [
            "Epoch 3/25 | Train Loss: 1.3849 | Train Acc: 0.2605 | Val Loss: 1.3848 | Val Acc: 0.2590\n",
            "\n"
          ]
        },
        {
          "output_type": "stream",
          "name": "stderr",
          "text": [
            "Training: 100%|██████████| 33/33 [00:01<00:00, 32.36batch/s]\n",
            "Validation: 100%|██████████| 17/17 [00:00<00:00, 43.00batch/s]\n"
          ]
        },
        {
          "output_type": "stream",
          "name": "stdout",
          "text": [
            "Epoch 4/25 | Train Loss: 1.3843 | Train Acc: 0.2639 | Val Loss: 1.3841 | Val Acc: 0.2675\n",
            "\n"
          ]
        },
        {
          "output_type": "stream",
          "name": "stderr",
          "text": [
            "Training: 100%|██████████| 33/33 [00:00<00:00, 38.36batch/s]\n",
            "Validation: 100%|██████████| 17/17 [00:00<00:00, 45.93batch/s]\n"
          ]
        },
        {
          "output_type": "stream",
          "name": "stdout",
          "text": [
            "Epoch 5/25 | Train Loss: 1.3841 | Train Acc: 0.2767 | Val Loss: 1.3835 | Val Acc: 0.2837\n",
            "\n"
          ]
        },
        {
          "output_type": "stream",
          "name": "stderr",
          "text": [
            "Training: 100%|██████████| 33/33 [00:00<00:00, 39.16batch/s]\n",
            "Validation: 100%|██████████| 17/17 [00:00<00:00, 45.89batch/s]\n"
          ]
        },
        {
          "output_type": "stream",
          "name": "stdout",
          "text": [
            "Epoch 6/25 | Train Loss: 1.3827 | Train Acc: 0.2759 | Val Loss: 1.3831 | Val Acc: 0.2879\n",
            "\n"
          ]
        },
        {
          "output_type": "stream",
          "name": "stderr",
          "text": [
            "Training: 100%|██████████| 33/33 [00:00<00:00, 38.55batch/s]\n",
            "Validation: 100%|██████████| 17/17 [00:00<00:00, 46.40batch/s]\n"
          ]
        },
        {
          "output_type": "stream",
          "name": "stdout",
          "text": [
            "Epoch 7/25 | Train Loss: 1.3825 | Train Acc: 0.2762 | Val Loss: 1.3826 | Val Acc: 0.2936\n",
            "\n"
          ]
        },
        {
          "output_type": "stream",
          "name": "stderr",
          "text": [
            "Training: 100%|██████████| 33/33 [00:00<00:00, 41.55batch/s]\n",
            "Validation: 100%|██████████| 17/17 [00:00<00:00, 49.11batch/s]\n"
          ]
        },
        {
          "output_type": "stream",
          "name": "stdout",
          "text": [
            "Epoch 8/25 | Train Loss: 1.3810 | Train Acc: 0.2848 | Val Loss: 1.3820 | Val Acc: 0.2929\n",
            "\n"
          ]
        },
        {
          "output_type": "stream",
          "name": "stderr",
          "text": [
            "Training: 100%|██████████| 33/33 [00:00<00:00, 40.05batch/s]\n",
            "Validation: 100%|██████████| 17/17 [00:00<00:00, 43.66batch/s]\n"
          ]
        },
        {
          "output_type": "stream",
          "name": "stdout",
          "text": [
            "Epoch 9/25 | Train Loss: 1.3799 | Train Acc: 0.2875 | Val Loss: 1.3815 | Val Acc: 0.2931\n",
            "\n"
          ]
        },
        {
          "output_type": "stream",
          "name": "stderr",
          "text": [
            "Training: 100%|██████████| 33/33 [00:00<00:00, 41.01batch/s]\n",
            "Validation: 100%|██████████| 17/17 [00:00<00:00, 46.34batch/s]\n"
          ]
        },
        {
          "output_type": "stream",
          "name": "stdout",
          "text": [
            "Epoch 10/25 | Train Loss: 1.3799 | Train Acc: 0.2880 | Val Loss: 1.3808 | Val Acc: 0.2954\n",
            "\n"
          ]
        },
        {
          "output_type": "stream",
          "name": "stderr",
          "text": [
            "Training: 100%|██████████| 33/33 [00:00<00:00, 40.33batch/s]\n",
            "Validation: 100%|██████████| 17/17 [00:00<00:00, 47.20batch/s]\n"
          ]
        },
        {
          "output_type": "stream",
          "name": "stdout",
          "text": [
            "Epoch 11/25 | Train Loss: 1.3798 | Train Acc: 0.2885 | Val Loss: 1.3801 | Val Acc: 0.2980\n",
            "\n"
          ]
        },
        {
          "output_type": "stream",
          "name": "stderr",
          "text": [
            "Training: 100%|██████████| 33/33 [00:00<00:00, 41.73batch/s]\n",
            "Validation: 100%|██████████| 17/17 [00:00<00:00, 32.81batch/s]\n"
          ]
        },
        {
          "output_type": "stream",
          "name": "stdout",
          "text": [
            "Epoch 12/25 | Train Loss: 1.3773 | Train Acc: 0.2923 | Val Loss: 1.3792 | Val Acc: 0.3004\n",
            "\n"
          ]
        },
        {
          "output_type": "stream",
          "name": "stderr",
          "text": [
            "Training: 100%|██████████| 33/33 [00:01<00:00, 28.57batch/s]\n",
            "Validation: 100%|██████████| 17/17 [00:00<00:00, 30.12batch/s]\n"
          ]
        },
        {
          "output_type": "stream",
          "name": "stdout",
          "text": [
            "Epoch 13/25 | Train Loss: 1.3765 | Train Acc: 0.3047 | Val Loss: 1.3782 | Val Acc: 0.3032\n",
            "\n"
          ]
        },
        {
          "output_type": "stream",
          "name": "stderr",
          "text": [
            "Training: 100%|██████████| 33/33 [00:01<00:00, 32.54batch/s]\n",
            "Validation: 100%|██████████| 17/17 [00:00<00:00, 45.97batch/s]\n"
          ]
        },
        {
          "output_type": "stream",
          "name": "stdout",
          "text": [
            "Epoch 14/25 | Train Loss: 1.3755 | Train Acc: 0.2985 | Val Loss: 1.3770 | Val Acc: 0.3095\n",
            "\n"
          ]
        },
        {
          "output_type": "stream",
          "name": "stderr",
          "text": [
            "Training: 100%|██████████| 33/33 [00:00<00:00, 39.04batch/s]\n",
            "Validation: 100%|██████████| 17/17 [00:00<00:00, 40.98batch/s]\n"
          ]
        },
        {
          "output_type": "stream",
          "name": "stdout",
          "text": [
            "Epoch 15/25 | Train Loss: 1.3741 | Train Acc: 0.3083 | Val Loss: 1.3756 | Val Acc: 0.3116\n",
            "\n"
          ]
        },
        {
          "output_type": "stream",
          "name": "stderr",
          "text": [
            "Training: 100%|██████████| 33/33 [00:00<00:00, 40.45batch/s]\n",
            "Validation: 100%|██████████| 17/17 [00:00<00:00, 46.51batch/s]\n"
          ]
        },
        {
          "output_type": "stream",
          "name": "stdout",
          "text": [
            "Epoch 16/25 | Train Loss: 1.3712 | Train Acc: 0.3159 | Val Loss: 1.3738 | Val Acc: 0.3253\n",
            "\n"
          ]
        },
        {
          "output_type": "stream",
          "name": "stderr",
          "text": [
            "Training: 100%|██████████| 33/33 [00:00<00:00, 39.55batch/s]\n",
            "Validation: 100%|██████████| 17/17 [00:00<00:00, 46.56batch/s]\n"
          ]
        },
        {
          "output_type": "stream",
          "name": "stdout",
          "text": [
            "Epoch 17/25 | Train Loss: 1.3683 | Train Acc: 0.3283 | Val Loss: 1.3716 | Val Acc: 0.3330\n",
            "\n"
          ]
        },
        {
          "output_type": "stream",
          "name": "stderr",
          "text": [
            "Training: 100%|██████████| 33/33 [00:00<00:00, 39.66batch/s]\n",
            "Validation: 100%|██████████| 17/17 [00:00<00:00, 47.41batch/s]\n"
          ]
        },
        {
          "output_type": "stream",
          "name": "stdout",
          "text": [
            "Epoch 18/25 | Train Loss: 1.3659 | Train Acc: 0.3289 | Val Loss: 1.3692 | Val Acc: 0.3419\n",
            "\n"
          ]
        },
        {
          "output_type": "stream",
          "name": "stderr",
          "text": [
            "Training: 100%|██████████| 33/33 [00:00<00:00, 40.64batch/s]\n",
            "Validation: 100%|██████████| 17/17 [00:00<00:00, 45.81batch/s]\n"
          ]
        },
        {
          "output_type": "stream",
          "name": "stdout",
          "text": [
            "Epoch 19/25 | Train Loss: 1.3627 | Train Acc: 0.3403 | Val Loss: 1.3663 | Val Acc: 0.3382\n",
            "\n"
          ]
        },
        {
          "output_type": "stream",
          "name": "stderr",
          "text": [
            "Training: 100%|██████████| 33/33 [00:00<00:00, 40.13batch/s]\n",
            "Validation: 100%|██████████| 17/17 [00:00<00:00, 45.20batch/s]\n"
          ]
        },
        {
          "output_type": "stream",
          "name": "stdout",
          "text": [
            "Epoch 20/25 | Train Loss: 1.3583 | Train Acc: 0.3473 | Val Loss: 1.3628 | Val Acc: 0.3572\n",
            "\n"
          ]
        },
        {
          "output_type": "stream",
          "name": "stderr",
          "text": [
            "Training: 100%|██████████| 33/33 [00:00<00:00, 38.93batch/s]\n",
            "Validation: 100%|██████████| 17/17 [00:00<00:00, 47.13batch/s]\n"
          ]
        },
        {
          "output_type": "stream",
          "name": "stdout",
          "text": [
            "Epoch 21/25 | Train Loss: 1.3549 | Train Acc: 0.3511 | Val Loss: 1.3577 | Val Acc: 0.3781\n",
            "\n"
          ]
        },
        {
          "output_type": "stream",
          "name": "stderr",
          "text": [
            "Training: 100%|██████████| 33/33 [00:00<00:00, 38.18batch/s]\n",
            "Validation: 100%|██████████| 17/17 [00:00<00:00, 30.85batch/s]\n"
          ]
        },
        {
          "output_type": "stream",
          "name": "stdout",
          "text": [
            "Epoch 22/25 | Train Loss: 1.3456 | Train Acc: 0.3793 | Val Loss: 1.3521 | Val Acc: 0.4082\n",
            "\n"
          ]
        },
        {
          "output_type": "stream",
          "name": "stderr",
          "text": [
            "Training: 100%|██████████| 33/33 [00:01<00:00, 28.35batch/s]\n",
            "Validation: 100%|██████████| 17/17 [00:00<00:00, 29.90batch/s]\n"
          ]
        },
        {
          "output_type": "stream",
          "name": "stdout",
          "text": [
            "Epoch 23/25 | Train Loss: 1.3407 | Train Acc: 0.3818 | Val Loss: 1.3462 | Val Acc: 0.4079\n",
            "\n"
          ]
        },
        {
          "output_type": "stream",
          "name": "stderr",
          "text": [
            "Training: 100%|██████████| 33/33 [00:01<00:00, 32.49batch/s]\n",
            "Validation: 100%|██████████| 17/17 [00:00<00:00, 45.96batch/s]\n"
          ]
        },
        {
          "output_type": "stream",
          "name": "stdout",
          "text": [
            "Epoch 24/25 | Train Loss: 1.3319 | Train Acc: 0.3972 | Val Loss: 1.3389 | Val Acc: 0.4159\n",
            "\n"
          ]
        },
        {
          "output_type": "stream",
          "name": "stderr",
          "text": [
            "Training: 100%|██████████| 33/33 [00:00<00:00, 40.88batch/s]\n",
            "Validation: 100%|██████████| 17/17 [00:00<00:00, 46.50batch/s]"
          ]
        },
        {
          "output_type": "stream",
          "name": "stdout",
          "text": [
            "Epoch 25/25 | Train Loss: 1.3233 | Train Acc: 0.4091 | Val Loss: 1.3315 | Val Acc: 0.4176\n",
            "\n",
            "Restored model to the best state based on validation loss.\n"
          ]
        },
        {
          "output_type": "stream",
          "name": "stderr",
          "text": [
            "\n"
          ]
        }
      ]
    },
    {
      "cell_type": "code",
      "source": [
        "y_true, y_pred = model.eval()"
      ],
      "metadata": {
        "colab": {
          "base_uri": "https://localhost:8080/"
        },
        "id": "JYpNB9HqEENN",
        "outputId": "b7f320b2-1abc-48be-9ac0-860b26803d95"
      },
      "execution_count": 41,
      "outputs": [
        {
          "output_type": "stream",
          "name": "stderr",
          "text": [
            "Validation: 100%|██████████| 17/17 [00:00<00:00, 52.15batch/s]\n"
          ]
        }
      ]
    },
    {
      "cell_type": "code",
      "source": [
        "from sklearn.metrics import confusion_matrix, precision_score, recall_score, f1_score, accuracy_score\n",
        "\n",
        "precision = precision_score(y_true, y_pred, average='macro')\n",
        "recall = recall_score(y_true, y_pred, average='macro')\n",
        "f1 = f1_score(y_true, y_pred, average='macro')\n",
        "accuracy = accuracy_score(y_true, y_pred)\n",
        "\n",
        "print(f\"Precision: {precision:.4f}\")\n",
        "print(f\"Recall: {recall:.4f}\")\n",
        "print(f\"F1 Score: {f1:.4f}\")\n",
        "print(f\"Akurasi: {accuracy:.4f}\")\n",
        "\n",
        "cm = confusion_matrix(y_true, y_pred)\n",
        "print(cm)"
      ],
      "metadata": {
        "colab": {
          "base_uri": "https://localhost:8080/"
        },
        "id": "E2quxBFWEG3Y",
        "outputId": "fdea5209-e469-49fd-8bbc-b064885c34dd"
      },
      "execution_count": 42,
      "outputs": [
        {
          "output_type": "stream",
          "name": "stdout",
          "text": [
            "Precision: 0.4474\n",
            "Recall: 0.4161\n",
            "F1 Score: 0.4167\n",
            "Akurasi: 0.4176\n",
            "[[365 280  55 324]\n",
            " [260 457  90 266]\n",
            " [ 91 351 361 264]\n",
            " [222 219  58 595]]\n"
          ]
        }
      ]
    },
    {
      "cell_type": "code",
      "source": [
        "model = CreateModel(X_train, y_train,\n",
        "                 X_test, y_test,\n",
        "                 batch=BATCH_SIZE,\n",
        "                 seq=SEQUENCE_LENGTH,\n",
        "                 embedding_dim=EMBED_DIM,\n",
        "                 n_layers=N_LAYERS,\n",
        "                 dropout_rate=DROPOUT_RATE,\n",
        "                 num_classes=NUM_CLASSES)"
      ],
      "metadata": {
        "colab": {
          "base_uri": "https://localhost:8080/"
        },
        "id": "rlCCtA2OUanr",
        "outputId": "4c5a8758-a254-419a-f90b-c1fc5aed0de4"
      },
      "execution_count": 43,
      "outputs": [
        {
          "output_type": "stream",
          "name": "stdout",
          "text": [
            "Loading setup data ...\n",
            "Loading train data ...\n",
            "Loading val data ...\n",
            "Successful load model\n"
          ]
        }
      ]
    },
    {
      "cell_type": "code",
      "source": [
        "from databits import CreateModel"
      ],
      "metadata": {
        "id": "LWEsD40QWuGm"
      },
      "execution_count": 44,
      "outputs": []
    },
    {
      "cell_type": "markdown",
      "source": [
        "# Model Transformer"
      ],
      "metadata": {
        "id": "Pdb2iOKbwpMI"
      }
    },
    {
      "cell_type": "code",
      "source": [
        "model.TRANSFORMER(num_heads=2)\n",
        "history = model.fit(epochs=EPOCHS, optimizer=OPTIMIZER, lr=LR, loss=LOSS)"
      ],
      "metadata": {
        "colab": {
          "base_uri": "https://localhost:8080/"
        },
        "id": "5j4kGR9iW4h6",
        "outputId": "73fc3783-255a-44e3-9ffc-3afebcf87525"
      },
      "execution_count": 45,
      "outputs": [
        {
          "output_type": "stream",
          "name": "stderr",
          "text": [
            "Training: 100%|██████████| 33/33 [00:01<00:00, 17.48batch/s]\n",
            "Validation: 100%|██████████| 17/17 [00:00<00:00, 19.68batch/s]\n"
          ]
        },
        {
          "output_type": "stream",
          "name": "stdout",
          "text": [
            "Epoch 1/25 | Train Loss: 1.3878 | Train Acc: 0.2410 | Val Loss: 1.3870 | Val Acc: 0.2407\n",
            "\n"
          ]
        },
        {
          "output_type": "stream",
          "name": "stderr",
          "text": [
            "Training: 100%|██████████| 33/33 [00:02<00:00, 14.87batch/s]\n",
            "Validation: 100%|██████████| 17/17 [00:00<00:00, 23.11batch/s]\n"
          ]
        },
        {
          "output_type": "stream",
          "name": "stdout",
          "text": [
            "Epoch 2/25 | Train Loss: 1.3849 | Train Acc: 0.2564 | Val Loss: 1.3861 | Val Acc: 0.2407\n",
            "\n"
          ]
        },
        {
          "output_type": "stream",
          "name": "stderr",
          "text": [
            "Training: 100%|██████████| 33/33 [00:01<00:00, 18.59batch/s]\n",
            "Validation: 100%|██████████| 17/17 [00:00<00:00, 24.44batch/s]\n"
          ]
        },
        {
          "output_type": "stream",
          "name": "stdout",
          "text": [
            "Epoch 3/25 | Train Loss: 1.3839 | Train Acc: 0.2502 | Val Loss: 1.3850 | Val Acc: 0.2466\n",
            "\n"
          ]
        },
        {
          "output_type": "stream",
          "name": "stderr",
          "text": [
            "Training: 100%|██████████| 33/33 [00:01<00:00, 18.74batch/s]\n",
            "Validation: 100%|██████████| 17/17 [00:00<00:00, 24.82batch/s]\n"
          ]
        },
        {
          "output_type": "stream",
          "name": "stdout",
          "text": [
            "Epoch 4/25 | Train Loss: 1.3825 | Train Acc: 0.2534 | Val Loss: 1.3843 | Val Acc: 0.2567\n",
            "\n"
          ]
        },
        {
          "output_type": "stream",
          "name": "stderr",
          "text": [
            "Training: 100%|██████████| 33/33 [00:01<00:00, 19.35batch/s]\n",
            "Validation: 100%|██████████| 17/17 [00:00<00:00, 25.43batch/s]\n"
          ]
        },
        {
          "output_type": "stream",
          "name": "stdout",
          "text": [
            "Epoch 5/25 | Train Loss: 1.3811 | Train Acc: 0.2731 | Val Loss: 1.3833 | Val Acc: 0.2670\n",
            "\n"
          ]
        },
        {
          "output_type": "stream",
          "name": "stderr",
          "text": [
            "Training: 100%|██████████| 33/33 [00:01<00:00, 19.36batch/s]\n",
            "Validation: 100%|██████████| 17/17 [00:00<00:00, 19.29batch/s]\n"
          ]
        },
        {
          "output_type": "stream",
          "name": "stdout",
          "text": [
            "Epoch 6/25 | Train Loss: 1.3796 | Train Acc: 0.2839 | Val Loss: 1.3826 | Val Acc: 0.2713\n",
            "\n"
          ]
        },
        {
          "output_type": "stream",
          "name": "stderr",
          "text": [
            "Training: 100%|██████████| 33/33 [00:02<00:00, 14.70batch/s]\n",
            "Validation: 100%|██████████| 17/17 [00:00<00:00, 24.89batch/s]\n"
          ]
        },
        {
          "output_type": "stream",
          "name": "stdout",
          "text": [
            "Epoch 7/25 | Train Loss: 1.3784 | Train Acc: 0.2993 | Val Loss: 1.3815 | Val Acc: 0.2863\n",
            "\n"
          ]
        },
        {
          "output_type": "stream",
          "name": "stderr",
          "text": [
            "Training: 100%|██████████| 33/33 [00:01<00:00, 18.68batch/s]\n",
            "Validation: 100%|██████████| 17/17 [00:00<00:00, 23.51batch/s]\n"
          ]
        },
        {
          "output_type": "stream",
          "name": "stdout",
          "text": [
            "Epoch 8/25 | Train Loss: 1.3770 | Train Acc: 0.3027 | Val Loss: 1.3804 | Val Acc: 0.2919\n",
            "\n"
          ]
        },
        {
          "output_type": "stream",
          "name": "stderr",
          "text": [
            "Training: 100%|██████████| 33/33 [00:01<00:00, 18.79batch/s]\n",
            "Validation: 100%|██████████| 17/17 [00:00<00:00, 24.07batch/s]\n"
          ]
        },
        {
          "output_type": "stream",
          "name": "stdout",
          "text": [
            "Epoch 9/25 | Train Loss: 1.3754 | Train Acc: 0.3169 | Val Loss: 1.3792 | Val Acc: 0.3016\n",
            "\n"
          ]
        },
        {
          "output_type": "stream",
          "name": "stderr",
          "text": [
            "Training: 100%|██████████| 33/33 [00:01<00:00, 19.17batch/s]\n",
            "Validation: 100%|██████████| 17/17 [00:00<00:00, 25.09batch/s]\n"
          ]
        },
        {
          "output_type": "stream",
          "name": "stdout",
          "text": [
            "Epoch 10/25 | Train Loss: 1.3739 | Train Acc: 0.3353 | Val Loss: 1.3784 | Val Acc: 0.3051\n",
            "\n"
          ]
        },
        {
          "output_type": "stream",
          "name": "stderr",
          "text": [
            "Training: 100%|██████████| 33/33 [00:01<00:00, 18.45batch/s]\n",
            "Validation: 100%|██████████| 17/17 [00:00<00:00, 18.70batch/s]\n"
          ]
        },
        {
          "output_type": "stream",
          "name": "stdout",
          "text": [
            "Epoch 11/25 | Train Loss: 1.3724 | Train Acc: 0.3492 | Val Loss: 1.3771 | Val Acc: 0.3126\n",
            "\n"
          ]
        },
        {
          "output_type": "stream",
          "name": "stderr",
          "text": [
            "Training: 100%|██████████| 33/33 [00:02<00:00, 14.89batch/s]\n",
            "Validation: 100%|██████████| 17/17 [00:00<00:00, 24.44batch/s]\n"
          ]
        },
        {
          "output_type": "stream",
          "name": "stdout",
          "text": [
            "Epoch 12/25 | Train Loss: 1.3703 | Train Acc: 0.3535 | Val Loss: 1.3758 | Val Acc: 0.3290\n",
            "\n"
          ]
        },
        {
          "output_type": "stream",
          "name": "stderr",
          "text": [
            "Training: 100%|██████████| 33/33 [00:01<00:00, 18.89batch/s]\n",
            "Validation: 100%|██████████| 17/17 [00:00<00:00, 24.84batch/s]\n"
          ]
        },
        {
          "output_type": "stream",
          "name": "stdout",
          "text": [
            "Epoch 13/25 | Train Loss: 1.3683 | Train Acc: 0.3873 | Val Loss: 1.3743 | Val Acc: 0.3368\n",
            "\n"
          ]
        },
        {
          "output_type": "stream",
          "name": "stderr",
          "text": [
            "Training: 100%|██████████| 33/33 [00:01<00:00, 18.95batch/s]\n",
            "Validation: 100%|██████████| 17/17 [00:00<00:00, 25.09batch/s]\n"
          ]
        },
        {
          "output_type": "stream",
          "name": "stdout",
          "text": [
            "Epoch 14/25 | Train Loss: 1.3664 | Train Acc: 0.3716 | Val Loss: 1.3730 | Val Acc: 0.3429\n",
            "\n"
          ]
        },
        {
          "output_type": "stream",
          "name": "stderr",
          "text": [
            "Training: 100%|██████████| 33/33 [00:01<00:00, 19.28batch/s]\n",
            "Validation: 100%|██████████| 17/17 [00:00<00:00, 24.36batch/s]\n"
          ]
        },
        {
          "output_type": "stream",
          "name": "stdout",
          "text": [
            "Epoch 15/25 | Train Loss: 1.3642 | Train Acc: 0.4098 | Val Loss: 1.3711 | Val Acc: 0.3556\n",
            "\n"
          ]
        },
        {
          "output_type": "stream",
          "name": "stderr",
          "text": [
            "Training: 100%|██████████| 33/33 [00:01<00:00, 18.82batch/s]\n",
            "Validation: 100%|██████████| 17/17 [00:00<00:00, 18.91batch/s]\n"
          ]
        },
        {
          "output_type": "stream",
          "name": "stdout",
          "text": [
            "Epoch 16/25 | Train Loss: 1.3617 | Train Acc: 0.3944 | Val Loss: 1.3698 | Val Acc: 0.3563\n",
            "\n"
          ]
        },
        {
          "output_type": "stream",
          "name": "stderr",
          "text": [
            "Training: 100%|██████████| 33/33 [00:02<00:00, 14.22batch/s]\n",
            "Validation: 100%|██████████| 17/17 [00:00<00:00, 21.34batch/s]\n"
          ]
        },
        {
          "output_type": "stream",
          "name": "stdout",
          "text": [
            "Epoch 17/25 | Train Loss: 1.3588 | Train Acc: 0.4198 | Val Loss: 1.3675 | Val Acc: 0.3650\n",
            "\n"
          ]
        },
        {
          "output_type": "stream",
          "name": "stderr",
          "text": [
            "Training: 100%|██████████| 33/33 [00:01<00:00, 18.09batch/s]\n",
            "Validation: 100%|██████████| 17/17 [00:00<00:00, 24.52batch/s]\n"
          ]
        },
        {
          "output_type": "stream",
          "name": "stdout",
          "text": [
            "Epoch 18/25 | Train Loss: 1.3563 | Train Acc: 0.4269 | Val Loss: 1.3659 | Val Acc: 0.3746\n",
            "\n"
          ]
        },
        {
          "output_type": "stream",
          "name": "stderr",
          "text": [
            "Training: 100%|██████████| 33/33 [00:01<00:00, 19.17batch/s]\n",
            "Validation: 100%|██████████| 17/17 [00:00<00:00, 24.30batch/s]\n"
          ]
        },
        {
          "output_type": "stream",
          "name": "stdout",
          "text": [
            "Epoch 19/25 | Train Loss: 1.3532 | Train Acc: 0.4348 | Val Loss: 1.3635 | Val Acc: 0.3828\n",
            "\n"
          ]
        },
        {
          "output_type": "stream",
          "name": "stderr",
          "text": [
            "Training: 100%|██████████| 33/33 [00:01<00:00, 18.47batch/s]\n",
            "Validation: 100%|██████████| 17/17 [00:00<00:00, 23.58batch/s]\n"
          ]
        },
        {
          "output_type": "stream",
          "name": "stdout",
          "text": [
            "Epoch 20/25 | Train Loss: 1.3495 | Train Acc: 0.4366 | Val Loss: 1.3610 | Val Acc: 0.3929\n",
            "\n"
          ]
        },
        {
          "output_type": "stream",
          "name": "stderr",
          "text": [
            "Training: 100%|██████████| 33/33 [00:01<00:00, 19.24batch/s]\n",
            "Validation: 100%|██████████| 17/17 [00:00<00:00, 19.92batch/s]\n"
          ]
        },
        {
          "output_type": "stream",
          "name": "stdout",
          "text": [
            "Epoch 21/25 | Train Loss: 1.3463 | Train Acc: 0.4475 | Val Loss: 1.3585 | Val Acc: 0.3929\n",
            "\n"
          ]
        },
        {
          "output_type": "stream",
          "name": "stderr",
          "text": [
            "Training: 100%|██████████| 33/33 [00:02<00:00, 14.93batch/s]\n",
            "Validation: 100%|██████████| 17/17 [00:00<00:00, 23.09batch/s]\n"
          ]
        },
        {
          "output_type": "stream",
          "name": "stdout",
          "text": [
            "Epoch 22/25 | Train Loss: 1.3421 | Train Acc: 0.4640 | Val Loss: 1.3557 | Val Acc: 0.4054\n",
            "\n"
          ]
        },
        {
          "output_type": "stream",
          "name": "stderr",
          "text": [
            "Training: 100%|██████████| 33/33 [00:01<00:00, 18.48batch/s]\n",
            "Validation: 100%|██████████| 17/17 [00:00<00:00, 24.91batch/s]\n"
          ]
        },
        {
          "output_type": "stream",
          "name": "stdout",
          "text": [
            "Epoch 23/25 | Train Loss: 1.3380 | Train Acc: 0.4719 | Val Loss: 1.3524 | Val Acc: 0.4082\n",
            "\n"
          ]
        },
        {
          "output_type": "stream",
          "name": "stderr",
          "text": [
            "Training: 100%|██████████| 33/33 [00:01<00:00, 19.01batch/s]\n",
            "Validation: 100%|██████████| 17/17 [00:00<00:00, 24.05batch/s]\n"
          ]
        },
        {
          "output_type": "stream",
          "name": "stdout",
          "text": [
            "Epoch 24/25 | Train Loss: 1.3331 | Train Acc: 0.4740 | Val Loss: 1.3496 | Val Acc: 0.4129\n",
            "\n"
          ]
        },
        {
          "output_type": "stream",
          "name": "stderr",
          "text": [
            "Training: 100%|██████████| 33/33 [00:01<00:00, 19.19batch/s]\n",
            "Validation: 100%|██████████| 17/17 [00:00<00:00, 24.94batch/s]"
          ]
        },
        {
          "output_type": "stream",
          "name": "stdout",
          "text": [
            "Epoch 25/25 | Train Loss: 1.3282 | Train Acc: 0.4830 | Val Loss: 1.3454 | Val Acc: 0.4185\n",
            "\n",
            "Restored model to the best state based on validation loss.\n"
          ]
        },
        {
          "output_type": "stream",
          "name": "stderr",
          "text": [
            "\n"
          ]
        }
      ]
    },
    {
      "cell_type": "code",
      "source": [
        "from sklearn.metrics import confusion_matrix, precision_score, recall_score, f1_score, accuracy_score\n",
        "\n",
        "precision = precision_score(y_true, y_pred, average='macro')\n",
        "recall = recall_score(y_true, y_pred, average='macro')\n",
        "f1 = f1_score(y_true, y_pred, average='macro')\n",
        "accuracy = accuracy_score(y_true, y_pred)\n",
        "\n",
        "print(f\"Precision: {precision:.4f}\")\n",
        "print(f\"Recall: {recall:.4f}\")\n",
        "print(f\"F1 Score: {f1:.4f}\")\n",
        "print(f\"Akurasi: {accuracy:.4f}\")\n",
        "\n",
        "cm = confusion_matrix(y_true, y_pred)\n",
        "print(cm)"
      ],
      "metadata": {
        "colab": {
          "base_uri": "https://localhost:8080/"
        },
        "id": "xy1pIqDoZ-IZ",
        "outputId": "541a0385-8ecd-4e3d-810a-25627f10c49f"
      },
      "execution_count": 46,
      "outputs": [
        {
          "output_type": "stream",
          "name": "stdout",
          "text": [
            "Precision: 0.4474\n",
            "Recall: 0.4161\n",
            "F1 Score: 0.4167\n",
            "Akurasi: 0.4176\n",
            "[[365 280  55 324]\n",
            " [260 457  90 266]\n",
            " [ 91 351 361 264]\n",
            " [222 219  58 595]]\n"
          ]
        }
      ]
    },
    {
      "cell_type": "markdown",
      "source": [
        "# Model bert"
      ],
      "metadata": {
        "id": "pt46KiANwldj"
      }
    },
    {
      "cell_type": "code",
      "source": [
        "model.BERT(num_heads=2)\n",
        "history = model.fit(epochs=EPOCHS, optimizer=OPTIMIZER, lr=LR, loss=LOSS)"
      ],
      "metadata": {
        "colab": {
          "base_uri": "https://localhost:8080/"
        },
        "id": "-vrc2J5aaBWg",
        "outputId": "1e725fd1-2a64-4ca6-d5ac-2b12fd81539c"
      },
      "execution_count": 38,
      "outputs": [
        {
          "output_type": "stream",
          "name": "stderr",
          "text": [
            "Training: 100%|██████████| 33/33 [00:02<00:00, 13.96batch/s]\n",
            "Validation: 100%|██████████| 17/17 [00:00<00:00, 24.33batch/s]\n"
          ]
        },
        {
          "output_type": "stream",
          "name": "stdout",
          "text": [
            "Epoch 1/25 | Train Loss: 1.3891 | Train Acc: 0.2673 | Val Loss: 1.3866 | Val Acc: 0.2576\n",
            "\n"
          ]
        },
        {
          "output_type": "stream",
          "name": "stderr",
          "text": [
            "Training: 100%|██████████| 33/33 [00:01<00:00, 18.90batch/s]\n",
            "Validation: 100%|██████████| 17/17 [00:00<00:00, 25.66batch/s]\n"
          ]
        },
        {
          "output_type": "stream",
          "name": "stdout",
          "text": [
            "Epoch 2/25 | Train Loss: 1.3888 | Train Acc: 0.2510 | Val Loss: 1.3866 | Val Acc: 0.2663\n",
            "\n"
          ]
        },
        {
          "output_type": "stream",
          "name": "stderr",
          "text": [
            "Training: 100%|██████████| 33/33 [00:01<00:00, 17.23batch/s]\n",
            "Validation: 100%|██████████| 17/17 [00:00<00:00, 20.75batch/s]\n"
          ]
        },
        {
          "output_type": "stream",
          "name": "stdout",
          "text": [
            "Epoch 3/25 | Train Loss: 1.3879 | Train Acc: 0.2429 | Val Loss: 1.3890 | Val Acc: 0.2532\n",
            "\n"
          ]
        },
        {
          "output_type": "stream",
          "name": "stderr",
          "text": [
            "Training: 100%|██████████| 33/33 [00:02<00:00, 15.24batch/s]\n",
            "Validation: 100%|██████████| 17/17 [00:00<00:00, 25.04batch/s]\n"
          ]
        },
        {
          "output_type": "stream",
          "name": "stdout",
          "text": [
            "Epoch 4/25 | Train Loss: 1.3870 | Train Acc: 0.2595 | Val Loss: 1.3873 | Val Acc: 0.2581\n",
            "\n"
          ]
        },
        {
          "output_type": "stream",
          "name": "stderr",
          "text": [
            "Training: 100%|██████████| 33/33 [00:01<00:00, 18.58batch/s]\n",
            "Validation: 100%|██████████| 17/17 [00:00<00:00, 24.71batch/s]\n"
          ]
        },
        {
          "output_type": "stream",
          "name": "stdout",
          "text": [
            "Epoch 5/25 | Train Loss: 1.3870 | Train Acc: 0.2552 | Val Loss: 1.3854 | Val Acc: 0.2529\n",
            "\n"
          ]
        },
        {
          "output_type": "stream",
          "name": "stderr",
          "text": [
            "Training: 100%|██████████| 33/33 [00:01<00:00, 18.97batch/s]\n",
            "Validation: 100%|██████████| 17/17 [00:00<00:00, 24.67batch/s]\n"
          ]
        },
        {
          "output_type": "stream",
          "name": "stdout",
          "text": [
            "Epoch 6/25 | Train Loss: 1.3842 | Train Acc: 0.2711 | Val Loss: 1.3861 | Val Acc: 0.2546\n",
            "\n"
          ]
        },
        {
          "output_type": "stream",
          "name": "stderr",
          "text": [
            "Training: 100%|██████████| 33/33 [00:01<00:00, 18.93batch/s]\n",
            "Validation: 100%|██████████| 17/17 [00:00<00:00, 25.29batch/s]\n"
          ]
        },
        {
          "output_type": "stream",
          "name": "stdout",
          "text": [
            "Epoch 7/25 | Train Loss: 1.3861 | Train Acc: 0.2548 | Val Loss: 1.3882 | Val Acc: 0.2534\n",
            "\n"
          ]
        },
        {
          "output_type": "stream",
          "name": "stderr",
          "text": [
            "Training: 100%|██████████| 33/33 [00:01<00:00, 18.16batch/s]\n",
            "Validation: 100%|██████████| 17/17 [00:00<00:00, 20.98batch/s]\n"
          ]
        },
        {
          "output_type": "stream",
          "name": "stdout",
          "text": [
            "Epoch 8/25 | Train Loss: 1.3841 | Train Acc: 0.2691 | Val Loss: 1.3858 | Val Acc: 0.2616\n",
            "\n"
          ]
        },
        {
          "output_type": "stream",
          "name": "stderr",
          "text": [
            "Training: 100%|██████████| 33/33 [00:02<00:00, 14.85batch/s]\n",
            "Validation: 100%|██████████| 17/17 [00:00<00:00, 25.03batch/s]\n"
          ]
        },
        {
          "output_type": "stream",
          "name": "stdout",
          "text": [
            "Epoch 9/25 | Train Loss: 1.3849 | Train Acc: 0.2675 | Val Loss: 1.3838 | Val Acc: 0.2710\n",
            "\n"
          ]
        },
        {
          "output_type": "stream",
          "name": "stderr",
          "text": [
            "Training: 100%|██████████| 33/33 [00:01<00:00, 18.83batch/s]\n",
            "Validation: 100%|██████████| 17/17 [00:00<00:00, 26.26batch/s]\n"
          ]
        },
        {
          "output_type": "stream",
          "name": "stdout",
          "text": [
            "Epoch 10/25 | Train Loss: 1.3840 | Train Acc: 0.2641 | Val Loss: 1.3838 | Val Acc: 0.2668\n",
            "\n"
          ]
        },
        {
          "output_type": "stream",
          "name": "stderr",
          "text": [
            "Training: 100%|██████████| 33/33 [00:01<00:00, 18.33batch/s]\n",
            "Validation: 100%|██████████| 17/17 [00:00<00:00, 26.07batch/s]\n"
          ]
        },
        {
          "output_type": "stream",
          "name": "stdout",
          "text": [
            "Epoch 11/25 | Train Loss: 1.3840 | Train Acc: 0.2648 | Val Loss: 1.3848 | Val Acc: 0.2609\n",
            "\n"
          ]
        },
        {
          "output_type": "stream",
          "name": "stderr",
          "text": [
            "Training: 100%|██████████| 33/33 [00:02<00:00, 16.48batch/s]\n",
            "Validation: 100%|██████████| 17/17 [00:00<00:00, 25.63batch/s]\n"
          ]
        },
        {
          "output_type": "stream",
          "name": "stdout",
          "text": [
            "Epoch 12/25 | Train Loss: 1.3817 | Train Acc: 0.2807 | Val Loss: 1.3851 | Val Acc: 0.2703\n",
            "\n"
          ]
        },
        {
          "output_type": "stream",
          "name": "stderr",
          "text": [
            "Training: 100%|██████████| 33/33 [00:01<00:00, 17.46batch/s]\n",
            "Validation: 100%|██████████| 17/17 [00:00<00:00, 20.40batch/s]\n"
          ]
        },
        {
          "output_type": "stream",
          "name": "stdout",
          "text": [
            "Epoch 13/25 | Train Loss: 1.3825 | Train Acc: 0.2724 | Val Loss: 1.3831 | Val Acc: 0.2755\n",
            "\n"
          ]
        },
        {
          "output_type": "stream",
          "name": "stderr",
          "text": [
            "Training: 100%|██████████| 33/33 [00:02<00:00, 14.87batch/s]\n",
            "Validation: 100%|██████████| 17/17 [00:00<00:00, 24.89batch/s]\n"
          ]
        },
        {
          "output_type": "stream",
          "name": "stdout",
          "text": [
            "Epoch 14/25 | Train Loss: 1.3817 | Train Acc: 0.2803 | Val Loss: 1.3843 | Val Acc: 0.2748\n",
            "\n"
          ]
        },
        {
          "output_type": "stream",
          "name": "stderr",
          "text": [
            "Training: 100%|██████████| 33/33 [00:01<00:00, 19.26batch/s]\n",
            "Validation: 100%|██████████| 17/17 [00:00<00:00, 25.55batch/s]\n"
          ]
        },
        {
          "output_type": "stream",
          "name": "stdout",
          "text": [
            "Epoch 15/25 | Train Loss: 1.3805 | Train Acc: 0.2861 | Val Loss: 1.3826 | Val Acc: 0.2743\n",
            "\n"
          ]
        },
        {
          "output_type": "stream",
          "name": "stderr",
          "text": [
            "Training: 100%|██████████| 33/33 [00:01<00:00, 19.02batch/s]\n",
            "Validation: 100%|██████████| 17/17 [00:00<00:00, 26.07batch/s]\n"
          ]
        },
        {
          "output_type": "stream",
          "name": "stdout",
          "text": [
            "Epoch 16/25 | Train Loss: 1.3796 | Train Acc: 0.2875 | Val Loss: 1.3827 | Val Acc: 0.2741\n",
            "\n"
          ]
        },
        {
          "output_type": "stream",
          "name": "stderr",
          "text": [
            "Training: 100%|██████████| 33/33 [00:01<00:00, 18.23batch/s]\n",
            "Validation: 100%|██████████| 17/17 [00:00<00:00, 25.05batch/s]\n"
          ]
        },
        {
          "output_type": "stream",
          "name": "stdout",
          "text": [
            "Epoch 17/25 | Train Loss: 1.3796 | Train Acc: 0.2863 | Val Loss: 1.3813 | Val Acc: 0.2776\n",
            "\n"
          ]
        },
        {
          "output_type": "stream",
          "name": "stderr",
          "text": [
            "Training: 100%|██████████| 33/33 [00:01<00:00, 17.38batch/s]\n",
            "Validation: 100%|██████████| 17/17 [00:00<00:00, 20.80batch/s]\n"
          ]
        },
        {
          "output_type": "stream",
          "name": "stdout",
          "text": [
            "Epoch 18/25 | Train Loss: 1.3785 | Train Acc: 0.2907 | Val Loss: 1.3807 | Val Acc: 0.2863\n",
            "\n"
          ]
        },
        {
          "output_type": "stream",
          "name": "stderr",
          "text": [
            "Training: 100%|██████████| 33/33 [00:02<00:00, 15.13batch/s]\n",
            "Validation: 100%|██████████| 17/17 [00:00<00:00, 24.70batch/s]\n"
          ]
        },
        {
          "output_type": "stream",
          "name": "stdout",
          "text": [
            "Epoch 19/25 | Train Loss: 1.3784 | Train Acc: 0.2899 | Val Loss: 1.3813 | Val Acc: 0.2792\n",
            "\n"
          ]
        },
        {
          "output_type": "stream",
          "name": "stderr",
          "text": [
            "Training: 100%|██████████| 33/33 [00:01<00:00, 18.43batch/s]\n",
            "Validation: 100%|██████████| 17/17 [00:00<00:00, 26.55batch/s]\n"
          ]
        },
        {
          "output_type": "stream",
          "name": "stdout",
          "text": [
            "Epoch 20/25 | Train Loss: 1.3759 | Train Acc: 0.3035 | Val Loss: 1.3795 | Val Acc: 0.2980\n",
            "\n"
          ]
        },
        {
          "output_type": "stream",
          "name": "stderr",
          "text": [
            "Training: 100%|██████████| 33/33 [00:01<00:00, 18.38batch/s]\n",
            "Validation: 100%|██████████| 17/17 [00:00<00:00, 24.86batch/s]\n"
          ]
        },
        {
          "output_type": "stream",
          "name": "stdout",
          "text": [
            "Epoch 21/25 | Train Loss: 1.3765 | Train Acc: 0.3024 | Val Loss: 1.3791 | Val Acc: 0.2832\n",
            "\n"
          ]
        },
        {
          "output_type": "stream",
          "name": "stderr",
          "text": [
            "Training: 100%|██████████| 33/33 [00:01<00:00, 19.06batch/s]\n",
            "Validation: 100%|██████████| 17/17 [00:00<00:00, 26.90batch/s]\n"
          ]
        },
        {
          "output_type": "stream",
          "name": "stdout",
          "text": [
            "Epoch 22/25 | Train Loss: 1.3754 | Train Acc: 0.3070 | Val Loss: 1.3785 | Val Acc: 0.2896\n",
            "\n"
          ]
        },
        {
          "output_type": "stream",
          "name": "stderr",
          "text": [
            "Training: 100%|██████████| 33/33 [00:01<00:00, 18.64batch/s]\n",
            "Validation: 100%|██████████| 17/17 [00:00<00:00, 20.30batch/s]\n"
          ]
        },
        {
          "output_type": "stream",
          "name": "stdout",
          "text": [
            "Epoch 23/25 | Train Loss: 1.3754 | Train Acc: 0.3047 | Val Loss: 1.3795 | Val Acc: 0.2769\n",
            "\n"
          ]
        },
        {
          "output_type": "stream",
          "name": "stderr",
          "text": [
            "Training: 100%|██████████| 33/33 [00:02<00:00, 14.40batch/s]\n",
            "Validation: 100%|██████████| 17/17 [00:00<00:00, 24.42batch/s]\n"
          ]
        },
        {
          "output_type": "stream",
          "name": "stdout",
          "text": [
            "Epoch 24/25 | Train Loss: 1.3744 | Train Acc: 0.3093 | Val Loss: 1.3782 | Val Acc: 0.2990\n",
            "\n"
          ]
        },
        {
          "output_type": "stream",
          "name": "stderr",
          "text": [
            "Training: 100%|██████████| 33/33 [00:01<00:00, 18.38batch/s]\n",
            "Validation: 100%|██████████| 17/17 [00:00<00:00, 26.55batch/s]"
          ]
        },
        {
          "output_type": "stream",
          "name": "stdout",
          "text": [
            "Epoch 25/25 | Train Loss: 1.3738 | Train Acc: 0.3054 | Val Loss: 1.3772 | Val Acc: 0.2961\n",
            "\n",
            "Restored model to the best state based on validation loss.\n"
          ]
        },
        {
          "output_type": "stream",
          "name": "stderr",
          "text": [
            "\n"
          ]
        }
      ]
    },
    {
      "cell_type": "code",
      "source": [
        "from sklearn.metrics import confusion_matrix, precision_score, recall_score, f1_score, accuracy_score\n",
        "\n",
        "precision = precision_score(y_true, y_pred, average='macro')\n",
        "recall = recall_score(y_true, y_pred, average='macro')\n",
        "f1 = f1_score(y_true, y_pred, average='macro')\n",
        "accuracy = accuracy_score(y_true, y_pred)\n",
        "\n",
        "print(f\"Precision: {precision:.4f}\")\n",
        "print(f\"Recall: {recall:.4f}\")\n",
        "print(f\"F1 Score: {f1:.4f}\")\n",
        "print(f\"Akurasi: {accuracy:.4f}\")\n",
        "\n",
        "cm = confusion_matrix(y_true, y_pred)\n",
        "print(cm)"
      ],
      "metadata": {
        "colab": {
          "base_uri": "https://localhost:8080/"
        },
        "id": "uiNGw7yGcokM",
        "outputId": "1c3794cf-f1e5-40f7-a1cc-e5737d403774"
      },
      "execution_count": 39,
      "outputs": [
        {
          "output_type": "stream",
          "name": "stdout",
          "text": [
            "Precision: 0.5282\n",
            "Recall: 0.4606\n",
            "F1 Score: 0.4352\n",
            "Akurasi: 0.4648\n",
            "[[201 635  29 159]\n",
            " [ 97 792  37 147]\n",
            " [  9 326 295 437]\n",
            " [ 50 279  74 691]]\n"
          ]
        }
      ]
    }
  ],
  "metadata": {
    "accelerator": "GPU",
    "colab": {
      "gpuType": "T4",
      "provenance": []
    },
    "kernelspec": {
      "display_name": "Python 3",
      "name": "python3"
    }
  },
  "nbformat": 4,
  "nbformat_minor": 0
}